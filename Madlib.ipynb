{
 "cells": [
  {
   "cell_type": "markdown",
   "metadata": {},
   "source": [
    "# <font size=\"15\"> Future Kids OC: Python 6 </font>\n",
    "## Project 2: \n",
    "1. [Examples](#section1)    \n",
    "2. [Implementation](#section2)  \n",
    "\n",
    "\n",
    " ## Contact:\n",
    "Email: [Future Kids OC](mailto:hello@futurekidsoc.com) \n",
    "  Website: [Future Kids OC](https://www.futurekidsoc.com/)\n",
    "\n",
    "What concepts this project covers:\n",
    "1. Strings\n",
    "2. Variables\n",
    "3. Input function\n",
    "4. Combining strings and variables \n",
    "5. Assignment statements"
   ]
  },
  {
   "cell_type": "markdown",
   "metadata": {},
   "source": [
    "<a id='section1'></a>\n",
    "# Examples\n",
    "\n",
    "A MADlib is a template word game where one player asks others for a list of words to substitute for blanks in a story before reading aloud."
   ]
  },
  {
   "cell_type": "markdown",
   "metadata": {},
   "source": [
    "**Example 1** Here is an example of a MADlib story:"
   ]
  },
  {
   "cell_type": "code",
   "execution_count": null,
   "metadata": {},
   "outputs": [],
   "source": [
    "person = input(\"enter a person: \")\n",
    "adjective1 = input(\"enter an adjective: \")\n",
    "place1 = input(\"enter a place: \")\n",
    "plural_noun1 = input(\"enter a plural noun: \")\n",
    "adjective2 = input(\"enter an adjective: \")\n",
    "plural_noun2 = input(\"enter a plural noun: \")\n",
    "place2 = input(\"enter a place: \")\n",
    "action_verb1 = input(\"enter an action verb: \")\n",
    "plural_noun3 = input(\"enter a plural noun: \")\n",
    "noun = input(\"enter a noun: \")\n",
    "action_verb2 = input(\"enter an action verb: \")\n",
    "action_verb3 = input(\"enter an action verb: \")\n",
    "adjective3 = input(\"enter an adjective: \")\n",
    "\n",
    "\n",
    "print(\"Last summer my mom and dad took me and \" + person + \" on a trip to \" + place1 + \". The weather there is very \"+ adjective1 + \"! Northern \" + place1 + \" has many \" + plural_noun1 + \" and they make \" + adjective1 +  plural_noun2 + \" there. Many people also go to \" + place2 + \" to \" + action_verb1 + \" or see the \" + plural_noun3 + \". The people that live there love to eat \" + plural_noun3 + \" and are very proud of their big \" + noun + \". They also like to \" + action_verb2 + \" in the Sun and swim in the \"  + action_verb3 + \"! It was a really \" + adjective3 + \" trip! \" )\n"
   ]
  },
  {
   "cell_type": "markdown",
   "metadata": {},
   "source": [
    "**Example 2** Here is an example of a story MADlib poem:"
   ]
  },
  {
   "cell_type": "code",
   "execution_count": null,
   "metadata": {},
   "outputs": [],
   "source": [
    "noun = input(\"enter a noun: \")\n",
    "adjective = input(\"enter an adjective: \")\n",
    "\n",
    "print(\"Roses are red. Violets are blue. There isn't a \" + noun + \" as \" + adjective + \" as you.\")"
   ]
  },
  {
   "cell_type": "markdown",
   "metadata": {},
   "source": [
    "<a id='section2'></a>\n",
    "# Implementation \n",
    "\n",
    "In the next cell, make your own MADlib. If you are having trouble, look at the example MADlibs above. Don't forget to have fun and be creative!"
   ]
  },
  {
   "cell_type": "code",
   "execution_count": null,
   "metadata": {},
   "outputs": [],
   "source": []
  }
 ],
 "metadata": {
  "kernelspec": {
   "display_name": "Python 3",
   "language": "python",
   "name": "python3"
  },
  "language_info": {
   "codemirror_mode": {
    "name": "ipython",
    "version": 3
   },
   "file_extension": ".py",
   "mimetype": "text/x-python",
   "name": "python",
   "nbconvert_exporter": "python",
   "pygments_lexer": "ipython3",
   "version": "3.6.9"
  }
 },
 "nbformat": 4,
 "nbformat_minor": 4
}
